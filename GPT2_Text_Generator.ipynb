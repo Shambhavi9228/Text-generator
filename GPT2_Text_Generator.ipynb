{
  "nbformat": 4,
  "nbformat_minor": 0,
  "metadata": {
    "colab": {
      "provenance": []
    },
    "kernelspec": {
      "name": "python3",
      "display_name": "Python 3"
    },
    "language_info": {
      "name": "python"
    },
    "widgets": {
      "application/vnd.jupyter.widget-state+json": {
        "96bb8a8c725b4548a92704630bda42f4": {
          "model_module": "@jupyter-widgets/controls",
          "model_name": "TextareaModel",
          "model_module_version": "1.5.0",
          "state": {
            "_dom_classes": [],
            "_model_module": "@jupyter-widgets/controls",
            "_model_module_version": "1.5.0",
            "_model_name": "TextareaModel",
            "_view_count": null,
            "_view_module": "@jupyter-widgets/controls",
            "_view_module_version": "1.5.0",
            "_view_name": "TextareaView",
            "continuous_update": true,
            "description": "",
            "description_tooltip": null,
            "disabled": false,
            "layout": "IPY_MODEL_35703f77db5b46fda20059af0f0167d2",
            "placeholder": "💡 Describe a situation, emotion, or scene...",
            "rows": null,
            "style": "IPY_MODEL_a5413919472948128043ffcdb3a93cfe",
            "value": "im crying on my birthday"
          }
        },
        "35703f77db5b46fda20059af0f0167d2": {
          "model_module": "@jupyter-widgets/base",
          "model_name": "LayoutModel",
          "model_module_version": "1.2.0",
          "state": {
            "_model_module": "@jupyter-widgets/base",
            "_model_module_version": "1.2.0",
            "_model_name": "LayoutModel",
            "_view_count": null,
            "_view_module": "@jupyter-widgets/base",
            "_view_module_version": "1.2.0",
            "_view_name": "LayoutView",
            "align_content": null,
            "align_items": null,
            "align_self": null,
            "border": "2px solid #4CAF50",
            "bottom": null,
            "display": null,
            "flex": null,
            "flex_flow": null,
            "grid_area": null,
            "grid_auto_columns": null,
            "grid_auto_flow": null,
            "grid_auto_rows": null,
            "grid_column": null,
            "grid_gap": null,
            "grid_row": null,
            "grid_template_areas": null,
            "grid_template_columns": null,
            "grid_template_rows": null,
            "height": "150px",
            "justify_content": null,
            "justify_items": null,
            "left": null,
            "margin": null,
            "max_height": null,
            "max_width": null,
            "min_height": null,
            "min_width": null,
            "object_fit": null,
            "object_position": null,
            "order": null,
            "overflow": null,
            "overflow_x": null,
            "overflow_y": null,
            "padding": "10px",
            "right": null,
            "top": null,
            "visibility": null,
            "width": "100%"
          }
        },
        "a5413919472948128043ffcdb3a93cfe": {
          "model_module": "@jupyter-widgets/controls",
          "model_name": "DescriptionStyleModel",
          "model_module_version": "1.5.0",
          "state": {
            "_model_module": "@jupyter-widgets/controls",
            "_model_module_version": "1.5.0",
            "_model_name": "DescriptionStyleModel",
            "_view_count": null,
            "_view_module": "@jupyter-widgets/base",
            "_view_module_version": "1.2.0",
            "_view_name": "StyleView",
            "description_width": ""
          }
        },
        "2414536b14784acab154733686bbd4f2": {
          "model_module": "@jupyter-widgets/controls",
          "model_name": "ToggleButtonsModel",
          "model_module_version": "1.5.0",
          "state": {
            "_dom_classes": [],
            "_model_module": "@jupyter-widgets/controls",
            "_model_module_version": "1.5.0",
            "_model_name": "ToggleButtonsModel",
            "_options_labels": [
              "Sad",
              "Happy",
              "Angry",
              "Furious",
              "Disappointment"
            ],
            "_view_count": null,
            "_view_module": "@jupyter-widgets/controls",
            "_view_module_version": "1.5.0",
            "_view_name": "ToggleButtonsView",
            "button_style": "",
            "description": "Theme:",
            "description_tooltip": null,
            "disabled": false,
            "icons": [],
            "index": 4,
            "layout": "IPY_MODEL_249b43e503234e1aa8acdf1366ae71fb",
            "style": "IPY_MODEL_1ce0b33ff73f4bbe8a6eb5a652aaf271",
            "tooltips": []
          }
        },
        "249b43e503234e1aa8acdf1366ae71fb": {
          "model_module": "@jupyter-widgets/base",
          "model_name": "LayoutModel",
          "model_module_version": "1.2.0",
          "state": {
            "_model_module": "@jupyter-widgets/base",
            "_model_module_version": "1.2.0",
            "_model_name": "LayoutModel",
            "_view_count": null,
            "_view_module": "@jupyter-widgets/base",
            "_view_module_version": "1.2.0",
            "_view_name": "LayoutView",
            "align_content": null,
            "align_items": null,
            "align_self": null,
            "border": null,
            "bottom": null,
            "display": null,
            "flex": null,
            "flex_flow": null,
            "grid_area": null,
            "grid_auto_columns": null,
            "grid_auto_flow": null,
            "grid_auto_rows": null,
            "grid_column": null,
            "grid_gap": null,
            "grid_row": null,
            "grid_template_areas": null,
            "grid_template_columns": null,
            "grid_template_rows": null,
            "height": null,
            "justify_content": null,
            "justify_items": null,
            "left": null,
            "margin": null,
            "max_height": null,
            "max_width": null,
            "min_height": null,
            "min_width": null,
            "object_fit": null,
            "object_position": null,
            "order": null,
            "overflow": null,
            "overflow_x": null,
            "overflow_y": null,
            "padding": null,
            "right": null,
            "top": null,
            "visibility": null,
            "width": "100%"
          }
        },
        "1ce0b33ff73f4bbe8a6eb5a652aaf271": {
          "model_module": "@jupyter-widgets/controls",
          "model_name": "ToggleButtonsStyleModel",
          "model_module_version": "1.5.0",
          "state": {
            "_model_module": "@jupyter-widgets/controls",
            "_model_module_version": "1.5.0",
            "_model_name": "ToggleButtonsStyleModel",
            "_view_count": null,
            "_view_module": "@jupyter-widgets/base",
            "_view_module_version": "1.2.0",
            "_view_name": "StyleView",
            "button_width": "",
            "description_width": "",
            "font_weight": ""
          }
        },
        "58204cbb85a544d794bc96e1e20a9776": {
          "model_module": "@jupyter-widgets/controls",
          "model_name": "ButtonModel",
          "model_module_version": "1.5.0",
          "state": {
            "_dom_classes": [],
            "_model_module": "@jupyter-widgets/controls",
            "_model_module_version": "1.5.0",
            "_model_name": "ButtonModel",
            "_view_count": null,
            "_view_module": "@jupyter-widgets/controls",
            "_view_module_version": "1.5.0",
            "_view_name": "ButtonView",
            "button_style": "success",
            "description": "⚡ Generate Text",
            "disabled": false,
            "icon": "",
            "layout": "IPY_MODEL_e36006e438d447559bdd24bb9f405261",
            "style": "IPY_MODEL_0e51b9db6f4a475ba2dd3a2584186f38",
            "tooltip": ""
          }
        },
        "e36006e438d447559bdd24bb9f405261": {
          "model_module": "@jupyter-widgets/base",
          "model_name": "LayoutModel",
          "model_module_version": "1.2.0",
          "state": {
            "_model_module": "@jupyter-widgets/base",
            "_model_module_version": "1.2.0",
            "_model_name": "LayoutModel",
            "_view_count": null,
            "_view_module": "@jupyter-widgets/base",
            "_view_module_version": "1.2.0",
            "_view_name": "LayoutView",
            "align_content": null,
            "align_items": null,
            "align_self": null,
            "border": null,
            "bottom": null,
            "display": null,
            "flex": null,
            "flex_flow": null,
            "grid_area": null,
            "grid_auto_columns": null,
            "grid_auto_flow": null,
            "grid_auto_rows": null,
            "grid_column": null,
            "grid_gap": null,
            "grid_row": null,
            "grid_template_areas": null,
            "grid_template_columns": null,
            "grid_template_rows": null,
            "height": null,
            "justify_content": null,
            "justify_items": null,
            "left": null,
            "margin": null,
            "max_height": null,
            "max_width": null,
            "min_height": null,
            "min_width": null,
            "object_fit": null,
            "object_position": null,
            "order": null,
            "overflow": null,
            "overflow_x": null,
            "overflow_y": null,
            "padding": null,
            "right": null,
            "top": null,
            "visibility": null,
            "width": null
          }
        },
        "0e51b9db6f4a475ba2dd3a2584186f38": {
          "model_module": "@jupyter-widgets/controls",
          "model_name": "ButtonStyleModel",
          "model_module_version": "1.5.0",
          "state": {
            "_model_module": "@jupyter-widgets/controls",
            "_model_module_version": "1.5.0",
            "_model_name": "ButtonStyleModel",
            "_view_count": null,
            "_view_module": "@jupyter-widgets/base",
            "_view_module_version": "1.2.0",
            "_view_name": "StyleView",
            "button_color": null,
            "font_weight": ""
          }
        },
        "40bdbc56f8334b6aa1c1aa4a25840eaf": {
          "model_module": "@jupyter-widgets/output",
          "model_name": "OutputModel",
          "model_module_version": "1.0.0",
          "state": {
            "_dom_classes": [],
            "_model_module": "@jupyter-widgets/output",
            "_model_module_version": "1.0.0",
            "_model_name": "OutputModel",
            "_view_count": null,
            "_view_module": "@jupyter-widgets/output",
            "_view_module_version": "1.0.0",
            "_view_name": "OutputView",
            "layout": "IPY_MODEL_541a537d085a4f1f82a96e05d7398a92",
            "msg_id": "",
            "outputs": [
              {
                "output_type": "stream",
                "name": "stderr",
                "text": [
                  "Setting `pad_token_id` to `eos_token_id`:50256 for open-end generation.\n"
                ]
              },
              {
                "output_type": "stream",
                "name": "stderr",
                "text": [
                  "Both `max_new_tokens` (=256) and `max_length`(=150) seem to have been set. `max_new_tokens` will take precedence. Please refer to the documentation for more information. (https://huggingface.co/docs/transformers/main/en/main_classes/text_generation)\n"
                ]
              },
              {
                "output_type": "display_data",
                "data": {
                  "text/plain": "<IPython.core.display.HTML object>",
                  "text/html": "<h4 style='color:#4CAF50'>📝 Generated Output (Disappointment):</h4><p style='font-size:16px'><b>Write a Disappointment themed version of this: im crying on my birthday, i am so happy to be back.\n\n\nI have been playing Zelda for years and i started playing it at a young age and i love it. I had a hard time getting my hands on this game, a lot of the content was just too good to pass up for me. I am a huge fan of Zelda, but I will say more as I continue to play and improve on it.\n\n\nI want to thank everyone for making this game so amazing. I can't wait to start playing it again and I know it will be a long one.\n\n\nI hope you enjoy this wonderful game!\n\n\nP.S. If you read this, you will be like every other Zelda fan. I'm so happy to be back again.</b></p>"
                },
                "metadata": {}
              }
            ]
          }
        },
        "541a537d085a4f1f82a96e05d7398a92": {
          "model_module": "@jupyter-widgets/base",
          "model_name": "LayoutModel",
          "model_module_version": "1.2.0",
          "state": {
            "_model_module": "@jupyter-widgets/base",
            "_model_module_version": "1.2.0",
            "_model_name": "LayoutModel",
            "_view_count": null,
            "_view_module": "@jupyter-widgets/base",
            "_view_module_version": "1.2.0",
            "_view_name": "LayoutView",
            "align_content": null,
            "align_items": null,
            "align_self": null,
            "border": "2px solid #2196F3",
            "bottom": null,
            "display": null,
            "flex": null,
            "flex_flow": null,
            "grid_area": null,
            "grid_auto_columns": null,
            "grid_auto_flow": null,
            "grid_auto_rows": null,
            "grid_column": null,
            "grid_gap": null,
            "grid_row": null,
            "grid_template_areas": null,
            "grid_template_columns": null,
            "grid_template_rows": null,
            "height": null,
            "justify_content": null,
            "justify_items": null,
            "left": null,
            "margin": null,
            "max_height": null,
            "max_width": null,
            "min_height": null,
            "min_width": null,
            "object_fit": null,
            "object_position": null,
            "order": null,
            "overflow": null,
            "overflow_x": null,
            "overflow_y": null,
            "padding": "10px",
            "right": null,
            "top": null,
            "visibility": null,
            "width": "100%"
          }
        },
        "9b9197bf977c4f318d453a546948d580": {
          "model_module": "@jupyter-widgets/controls",
          "model_name": "DropdownModel",
          "model_module_version": "1.5.0",
          "state": {
            "_dom_classes": [],
            "_model_module": "@jupyter-widgets/controls",
            "_model_module_version": "1.5.0",
            "_model_name": "DropdownModel",
            "_options_labels": [
              "The day I lost my best friend",
              "Winning the championship after years of struggle",
              "A heated argument between two siblings",
              "A warrior betrayed by his own people",
              "A student failing despite trying their best"
            ],
            "_view_count": null,
            "_view_module": "@jupyter-widgets/controls",
            "_view_module_version": "1.5.0",
            "_view_name": "DropdownView",
            "description": "Pick a Sample:",
            "description_tooltip": null,
            "disabled": false,
            "index": 0,
            "layout": "IPY_MODEL_dffadbbd76a447f89d63c5e5254b1ee9",
            "style": "IPY_MODEL_97b065e3774a4c01bd5578b788941720"
          }
        },
        "dffadbbd76a447f89d63c5e5254b1ee9": {
          "model_module": "@jupyter-widgets/base",
          "model_name": "LayoutModel",
          "model_module_version": "1.2.0",
          "state": {
            "_model_module": "@jupyter-widgets/base",
            "_model_module_version": "1.2.0",
            "_model_name": "LayoutModel",
            "_view_count": null,
            "_view_module": "@jupyter-widgets/base",
            "_view_module_version": "1.2.0",
            "_view_name": "LayoutView",
            "align_content": null,
            "align_items": null,
            "align_self": null,
            "border": null,
            "bottom": null,
            "display": null,
            "flex": null,
            "flex_flow": null,
            "grid_area": null,
            "grid_auto_columns": null,
            "grid_auto_flow": null,
            "grid_auto_rows": null,
            "grid_column": null,
            "grid_gap": null,
            "grid_row": null,
            "grid_template_areas": null,
            "grid_template_columns": null,
            "grid_template_rows": null,
            "height": null,
            "justify_content": null,
            "justify_items": null,
            "left": null,
            "margin": null,
            "max_height": null,
            "max_width": null,
            "min_height": null,
            "min_width": null,
            "object_fit": null,
            "object_position": null,
            "order": null,
            "overflow": null,
            "overflow_x": null,
            "overflow_y": null,
            "padding": null,
            "right": null,
            "top": null,
            "visibility": null,
            "width": "100%"
          }
        },
        "97b065e3774a4c01bd5578b788941720": {
          "model_module": "@jupyter-widgets/controls",
          "model_name": "DescriptionStyleModel",
          "model_module_version": "1.5.0",
          "state": {
            "_model_module": "@jupyter-widgets/controls",
            "_model_module_version": "1.5.0",
            "_model_name": "DescriptionStyleModel",
            "_view_count": null,
            "_view_module": "@jupyter-widgets/base",
            "_view_module_version": "1.2.0",
            "_view_name": "StyleView",
            "description_width": ""
          }
        },
        "d1b1a9bac61542258e5de570b09f551f": {
          "model_module": "@jupyter-widgets/controls",
          "model_name": "ButtonModel",
          "model_module_version": "1.5.0",
          "state": {
            "_dom_classes": [],
            "_model_module": "@jupyter-widgets/controls",
            "_model_module_version": "1.5.0",
            "_model_name": "ButtonModel",
            "_view_count": null,
            "_view_module": "@jupyter-widgets/controls",
            "_view_module_version": "1.5.0",
            "_view_name": "ButtonView",
            "button_style": "info",
            "description": "📥 Use Sample",
            "disabled": false,
            "icon": "",
            "layout": "IPY_MODEL_25ae53917b4146a7a4e6f52b920b2aaf",
            "style": "IPY_MODEL_f10aaa2b7fe6480bb7c8aa80db359957",
            "tooltip": ""
          }
        },
        "25ae53917b4146a7a4e6f52b920b2aaf": {
          "model_module": "@jupyter-widgets/base",
          "model_name": "LayoutModel",
          "model_module_version": "1.2.0",
          "state": {
            "_model_module": "@jupyter-widgets/base",
            "_model_module_version": "1.2.0",
            "_model_name": "LayoutModel",
            "_view_count": null,
            "_view_module": "@jupyter-widgets/base",
            "_view_module_version": "1.2.0",
            "_view_name": "LayoutView",
            "align_content": null,
            "align_items": null,
            "align_self": null,
            "border": null,
            "bottom": null,
            "display": null,
            "flex": null,
            "flex_flow": null,
            "grid_area": null,
            "grid_auto_columns": null,
            "grid_auto_flow": null,
            "grid_auto_rows": null,
            "grid_column": null,
            "grid_gap": null,
            "grid_row": null,
            "grid_template_areas": null,
            "grid_template_columns": null,
            "grid_template_rows": null,
            "height": null,
            "justify_content": null,
            "justify_items": null,
            "left": null,
            "margin": null,
            "max_height": null,
            "max_width": null,
            "min_height": null,
            "min_width": null,
            "object_fit": null,
            "object_position": null,
            "order": null,
            "overflow": null,
            "overflow_x": null,
            "overflow_y": null,
            "padding": null,
            "right": null,
            "top": null,
            "visibility": null,
            "width": null
          }
        },
        "f10aaa2b7fe6480bb7c8aa80db359957": {
          "model_module": "@jupyter-widgets/controls",
          "model_name": "ButtonStyleModel",
          "model_module_version": "1.5.0",
          "state": {
            "_model_module": "@jupyter-widgets/controls",
            "_model_module_version": "1.5.0",
            "_model_name": "ButtonStyleModel",
            "_view_count": null,
            "_view_module": "@jupyter-widgets/base",
            "_view_module_version": "1.2.0",
            "_view_name": "StyleView",
            "button_color": null,
            "font_weight": ""
          }
        }
      }
    }
  },
  "cells": [
    {
      "cell_type": "code",
      "source": [
        "# 📦 Install required libraries\n",
        "!pip install -q transformers ipywidgets\n",
        "\n",
        "# 🔁 Imports\n",
        "from transformers import pipeline, AutoTokenizer, AutoModelForCausalLM\n",
        "from IPython.display import display, HTML\n",
        "import ipywidgets as widgets\n",
        "\n",
        "# 🧠 Load GPT-2 model + tokenizer\n",
        "tokenizer = AutoTokenizer.from_pretrained(\"gpt2\")\n",
        "model = AutoModelForCausalLM.from_pretrained(\"gpt2\")\n",
        "generator = pipeline(\"text-generation\", model=model, tokenizer=tokenizer)\n",
        "\n",
        "# ✍ Styled Input Box\n",
        "custom_prompt = widgets.Textarea(\n",
        "    placeholder='💡 Describe a situation, emotion, or scene...',\n",
        "    layout=widgets.Layout(width='100%', height='150px', border='2px solid #4CAF50', padding='10px')\n",
        ")\n",
        "\n",
        "# 🎭 Theme Selector\n",
        "style_selector = widgets.ToggleButtons(\n",
        "    options=[\"Sad\", \"Happy\", \"Angry\", \"Furious\", \"Disappointment\"],\n",
        "    description='Theme:',\n",
        "    button_style='',  # 'success', 'info', 'warning', 'danger'\n",
        "    layout=widgets.Layout(width='100%')\n",
        ")\n",
        "\n",
        "# 🎯 Sample Prompts\n",
        "sample_prompts = [\n",
        "    \"The day I lost my best friend\",\n",
        "    \"Winning the championship after years of struggle\",\n",
        "    \"A heated argument between two siblings\",\n",
        "    \"A warrior betrayed by his own people\",\n",
        "    \"A student failing despite trying their best\"\n",
        "]\n",
        "\n",
        "sample_dropdown = widgets.Dropdown(\n",
        "    options=sample_prompts,\n",
        "    description='Pick a Sample:',\n",
        "    layout=widgets.Layout(width='100%')\n",
        ")\n",
        "\n",
        "use_sample_button = widgets.Button(description=\"📥 Use Sample\", button_style='info')\n",
        "generate_button = widgets.Button(description=\"⚡ Generate Text\", button_style='success')\n",
        "output_area = widgets.Output(layout=widgets.Layout(border='2px solid #2196F3', padding='10px', width='100%'))\n",
        "\n",
        "# 🧠 Insert Sample\n",
        "def insert_sample(b):\n",
        "    custom_prompt.value = sample_dropdown.value\n",
        "\n",
        "# ⚡ Generate Text\n",
        "def run_generation(b):\n",
        "    with output_area:\n",
        "        output_area.clear_output()\n",
        "        raw_input = custom_prompt.value.strip()\n",
        "        style = style_selector.value\n",
        "\n",
        "        if raw_input:\n",
        "            full_input = f\"Write a {style} themed version of this: {raw_input}\"\n",
        "            result = generator(full_input, max_length=150, truncation=True)[0][\"generated_text\"]\n",
        "            display(HTML(f\"<h4 style='color:#4CAF50'>📝 Generated Output ({style}):</h4><p style='font-size:16px'><b>{result}</b></p>\"))\n",
        "        else:\n",
        "            display(HTML(\"<p style='color:red'><b>⚠️ Please enter a prompt first.</b></p>\"))\n",
        "\n",
        "# 🔗 Link buttons\n",
        "use_sample_button.on_click(insert_sample)\n",
        "generate_button.on_click(run_generation)\n",
        "\n",
        "# 🎨 Display Layout\n",
        "display(HTML(\"<h2 style='color:#3F51B5'>🎭 GPT-2 Emotional Theme Generator</h2>\"))\n",
        "display(custom_prompt)\n",
        "display(style_selector)\n",
        "display(generate_button)\n",
        "display(output_area)\n",
        "display(HTML(\"<br><b>Need inspiration?</b>\"))\n",
        "display(sample_dropdown, use_sample_button)\n"
      ],
      "metadata": {
        "colab": {
          "base_uri": "https://localhost:8080/",
          "height": 766,
          "referenced_widgets": [
            "96bb8a8c725b4548a92704630bda42f4",
            "35703f77db5b46fda20059af0f0167d2",
            "a5413919472948128043ffcdb3a93cfe",
            "2414536b14784acab154733686bbd4f2",
            "249b43e503234e1aa8acdf1366ae71fb",
            "1ce0b33ff73f4bbe8a6eb5a652aaf271",
            "58204cbb85a544d794bc96e1e20a9776",
            "e36006e438d447559bdd24bb9f405261",
            "0e51b9db6f4a475ba2dd3a2584186f38",
            "40bdbc56f8334b6aa1c1aa4a25840eaf",
            "541a537d085a4f1f82a96e05d7398a92",
            "9b9197bf977c4f318d453a546948d580",
            "dffadbbd76a447f89d63c5e5254b1ee9",
            "97b065e3774a4c01bd5578b788941720",
            "d1b1a9bac61542258e5de570b09f551f",
            "25ae53917b4146a7a4e6f52b920b2aaf",
            "f10aaa2b7fe6480bb7c8aa80db359957"
          ]
        },
        "id": "knHoUbtWmmfT",
        "outputId": "1c66d2f5-88e2-4f45-83b2-b6542984f58d"
      },
      "execution_count": 2,
      "outputs": [
        {
          "output_type": "stream",
          "name": "stderr",
          "text": [
            "Device set to use cpu\n"
          ]
        },
        {
          "output_type": "display_data",
          "data": {
            "text/plain": [
              "<IPython.core.display.HTML object>"
            ],
            "text/html": [
              "<h2 style='color:#3F51B5'>🎭 GPT-2 Emotional Theme Generator</h2>"
            ]
          },
          "metadata": {}
        },
        {
          "output_type": "display_data",
          "data": {
            "text/plain": [
              "Textarea(value='', layout=Layout(border='2px solid #4CAF50', height='150px', padding='10px', width='100%'), pl…"
            ],
            "application/vnd.jupyter.widget-view+json": {
              "version_major": 2,
              "version_minor": 0,
              "model_id": "96bb8a8c725b4548a92704630bda42f4"
            }
          },
          "metadata": {}
        },
        {
          "output_type": "display_data",
          "data": {
            "text/plain": [
              "ToggleButtons(description='Theme:', layout=Layout(width='100%'), options=('Sad', 'Happy', 'Angry', 'Furious', …"
            ],
            "application/vnd.jupyter.widget-view+json": {
              "version_major": 2,
              "version_minor": 0,
              "model_id": "2414536b14784acab154733686bbd4f2"
            }
          },
          "metadata": {}
        },
        {
          "output_type": "display_data",
          "data": {
            "text/plain": [
              "Button(button_style='success', description='⚡ Generate Text', style=ButtonStyle())"
            ],
            "application/vnd.jupyter.widget-view+json": {
              "version_major": 2,
              "version_minor": 0,
              "model_id": "58204cbb85a544d794bc96e1e20a9776"
            }
          },
          "metadata": {}
        },
        {
          "output_type": "display_data",
          "data": {
            "text/plain": [
              "Output(layout=Layout(border='2px solid #2196F3', padding='10px', width='100%'))"
            ],
            "application/vnd.jupyter.widget-view+json": {
              "version_major": 2,
              "version_minor": 0,
              "model_id": "40bdbc56f8334b6aa1c1aa4a25840eaf"
            }
          },
          "metadata": {}
        },
        {
          "output_type": "display_data",
          "data": {
            "text/plain": [
              "<IPython.core.display.HTML object>"
            ],
            "text/html": [
              "<br><b>Need inspiration?</b>"
            ]
          },
          "metadata": {}
        },
        {
          "output_type": "display_data",
          "data": {
            "text/plain": [
              "Dropdown(description='Pick a Sample:', layout=Layout(width='100%'), options=('The day I lost my best friend', …"
            ],
            "application/vnd.jupyter.widget-view+json": {
              "version_major": 2,
              "version_minor": 0,
              "model_id": "9b9197bf977c4f318d453a546948d580"
            }
          },
          "metadata": {}
        },
        {
          "output_type": "display_data",
          "data": {
            "text/plain": [
              "Button(button_style='info', description='📥 Use Sample', style=ButtonStyle())"
            ],
            "application/vnd.jupyter.widget-view+json": {
              "version_major": 2,
              "version_minor": 0,
              "model_id": "d1b1a9bac61542258e5de570b09f551f"
            }
          },
          "metadata": {}
        }
      ]
    }
  ]
}